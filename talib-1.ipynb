{
 "cells": [
  {
   "cell_type": "code",
   "execution_count": 22,
   "metadata": {},
   "outputs": [],
   "source": [
    "import numpy as np\n",
    "import pandas as pd\n",
    "import talib\n",
    "import csv"
   ]
  },
  {
   "cell_type": "code",
   "execution_count": 23,
   "metadata": {},
   "outputs": [],
   "source": [
    "df = pd.read_csv('D:/shinj/Data/[1]pred-bitcoin/Data/bitcoin.csv')"
   ]
  },
  {
   "cell_type": "code",
   "execution_count": 24,
   "metadata": {},
   "outputs": [
    {
     "data": {
      "text/html": [
       "<div>\n",
       "<style scoped>\n",
       "    .dataframe tbody tr th:only-of-type {\n",
       "        vertical-align: middle;\n",
       "    }\n",
       "\n",
       "    .dataframe tbody tr th {\n",
       "        vertical-align: top;\n",
       "    }\n",
       "\n",
       "    .dataframe thead th {\n",
       "        text-align: right;\n",
       "    }\n",
       "</style>\n",
       "<table border=\"1\" class=\"dataframe\">\n",
       "  <thead>\n",
       "    <tr style=\"text-align: right;\">\n",
       "      <th></th>\n",
       "      <th>Date</th>\n",
       "      <th>Open</th>\n",
       "      <th>High</th>\n",
       "      <th>Low</th>\n",
       "      <th>Close</th>\n",
       "      <th>Volume</th>\n",
       "      <th>Market Cap</th>\n",
       "    </tr>\n",
       "  </thead>\n",
       "  <tbody>\n",
       "    <tr>\n",
       "      <th>0</th>\n",
       "      <td>2013-04-29</td>\n",
       "      <td>134.0</td>\n",
       "      <td>147.0</td>\n",
       "      <td>134.0</td>\n",
       "      <td>145.0</td>\n",
       "      <td>0</td>\n",
       "      <td>1.603769e+09</td>\n",
       "    </tr>\n",
       "    <tr>\n",
       "      <th>1</th>\n",
       "      <td>2013-04-30</td>\n",
       "      <td>144.0</td>\n",
       "      <td>147.0</td>\n",
       "      <td>134.0</td>\n",
       "      <td>139.0</td>\n",
       "      <td>0</td>\n",
       "      <td>1.542813e+09</td>\n",
       "    </tr>\n",
       "    <tr>\n",
       "      <th>2</th>\n",
       "      <td>2013-05-01</td>\n",
       "      <td>139.0</td>\n",
       "      <td>140.0</td>\n",
       "      <td>108.0</td>\n",
       "      <td>117.0</td>\n",
       "      <td>0</td>\n",
       "      <td>1.298955e+09</td>\n",
       "    </tr>\n",
       "    <tr>\n",
       "      <th>3</th>\n",
       "      <td>2013-05-02</td>\n",
       "      <td>116.0</td>\n",
       "      <td>126.0</td>\n",
       "      <td>92.0</td>\n",
       "      <td>105.0</td>\n",
       "      <td>0</td>\n",
       "      <td>1.168517e+09</td>\n",
       "    </tr>\n",
       "    <tr>\n",
       "      <th>4</th>\n",
       "      <td>2013-05-03</td>\n",
       "      <td>106.0</td>\n",
       "      <td>108.0</td>\n",
       "      <td>79.0</td>\n",
       "      <td>98.0</td>\n",
       "      <td>0</td>\n",
       "      <td>1.085995e+09</td>\n",
       "    </tr>\n",
       "  </tbody>\n",
       "</table>\n",
       "</div>"
      ],
      "text/plain": [
       "         Date   Open   High    Low  Close  Volume    Market Cap\n",
       "0  2013-04-29  134.0  147.0  134.0  145.0       0  1.603769e+09\n",
       "1  2013-04-30  144.0  147.0  134.0  139.0       0  1.542813e+09\n",
       "2  2013-05-01  139.0  140.0  108.0  117.0       0  1.298955e+09\n",
       "3  2013-05-02  116.0  126.0   92.0  105.0       0  1.168517e+09\n",
       "4  2013-05-03  106.0  108.0   79.0   98.0       0  1.085995e+09"
      ]
     },
     "execution_count": 24,
     "metadata": {},
     "output_type": "execute_result"
    }
   ],
   "source": [
    "df.head()"
   ]
  },
  {
   "cell_type": "code",
   "execution_count": 25,
   "metadata": {},
   "outputs": [],
   "source": [
    "Close = np.array(df[['Close']])"
   ]
  },
  {
   "cell_type": "code",
   "execution_count": 26,
   "metadata": {},
   "outputs": [
    {
     "data": {
      "text/plain": [
       "array([[  145.],\n",
       "       [  139.],\n",
       "       [  117.],\n",
       "       ...,\n",
       "       [11592.],\n",
       "       [11682.],\n",
       "       [11665.]])"
      ]
     },
     "execution_count": 26,
     "metadata": {},
     "output_type": "execute_result"
    }
   ],
   "source": [
    "Close"
   ]
  },
  {
   "cell_type": "code",
   "execution_count": 27,
   "metadata": {},
   "outputs": [],
   "source": [
    "df['sma5'] = talib.SMA(np.asarray(df['Close']),5)\n",
    "df['sma20'] = talib.SMA(np.asarray(df['Close']),20)\n",
    "df['sma120'] = talib.SMA(np.asarray(df['Close']),120)\n",
    "df['ema12'] = talib.SMA(np.asarray(df['Close']),12)\n",
    "df['ema26'] = talib.SMA(np.asarray(df['Close']),26)"
   ]
  },
  {
   "cell_type": "code",
   "execution_count": 28,
   "metadata": {},
   "outputs": [],
   "source": [
    "upper, middle, lower = talib.BBANDS(np.asarray(df['Close']), timeperiod=20, nbdevup=2, nbdevdn=2, matype=0)"
   ]
  },
  {
   "cell_type": "code",
   "execution_count": 29,
   "metadata": {},
   "outputs": [],
   "source": [
    "df['dn'] = lower\n",
    "df['mavg'] = middle\n",
    "df['up'] = upper\n",
    "df['pct8'] = (df.Close - df.dn)/(df.up - df.dn)"
   ]
  },
  {
   "cell_type": "code",
   "execution_count": 30,
   "metadata": {},
   "outputs": [],
   "source": [
    "rsi14 = talib.RSI(np.asarray(df['Close']), 14)\n",
    "df['rsi14'] = rsi14"
   ]
  },
  {
   "cell_type": "code",
   "execution_count": 31,
   "metadata": {},
   "outputs": [],
   "source": [
    "macd, macdsignal, macdhist = talib.MACD(np.asarray(df['Close']),12 ,26 ,9)\n",
    "df['macd'] = macd\n",
    "df['signal'] = macdsignal"
   ]
  },
  {
   "cell_type": "code",
   "execution_count": 32,
   "metadata": {},
   "outputs": [],
   "source": [
    "df.to_csv('D:/shinj/Data/[1]pred-bitcoin/Data/중복제거최종데이터_전처리전.csv', sep=',', na_rep='NaN')"
   ]
  },
  {
   "cell_type": "code",
   "execution_count": null,
   "metadata": {},
   "outputs": [],
   "source": []
  }
 ],
 "metadata": {
  "kernelspec": {
   "display_name": "ML",
   "language": "python",
   "name": "ml"
  },
  "language_info": {
   "codemirror_mode": {
    "name": "ipython",
    "version": 3
   },
   "file_extension": ".py",
   "mimetype": "text/x-python",
   "name": "python",
   "nbconvert_exporter": "python",
   "pygments_lexer": "ipython3",
   "version": "3.8.5"
  }
 },
 "nbformat": 4,
 "nbformat_minor": 4
}
