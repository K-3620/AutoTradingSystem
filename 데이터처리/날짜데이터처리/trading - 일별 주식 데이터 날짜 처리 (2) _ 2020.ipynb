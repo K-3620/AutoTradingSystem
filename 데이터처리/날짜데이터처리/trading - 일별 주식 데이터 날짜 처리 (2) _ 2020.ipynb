{
 "cells": [
  {
   "cell_type": "markdown",
   "metadata": {},
   "source": [
    "---\n",
    "# <center> 데이터프레임 Index 지정 </center>\n",
    "---\n"
   ]
  },
  {
   "cell_type": "markdown",
   "metadata": {},
   "source": [
    "## 주식 데이터 - 날짜 데이터를 Index로 지정\n",
    "- 판다스 set_index() 함수를 사용해 index를 date 컬럼으로 지정"
   ]
  },
  {
   "cell_type": "code",
   "execution_count": 1,
   "metadata": {},
   "outputs": [],
   "source": [
    "import pandas as pd"
   ]
  },
  {
   "cell_type": "code",
   "execution_count": 2,
   "metadata": {},
   "outputs": [],
   "source": [
    "def transform_datetype(df):\n",
    "    df['date'] = df['date'].astype('str')\n",
    "    df['date'] = pd.to_datetime(df['date'])\n",
    "    return df"
   ]
  },
  {
   "cell_type": "code",
   "execution_count": 3,
   "metadata": {},
   "outputs": [],
   "source": [
    "df = pd.read_csv('./DA000020.csv')"
   ]
  },
  {
   "cell_type": "code",
   "execution_count": 4,
   "metadata": {},
   "outputs": [],
   "source": [
    "df = transform_datetype(df)"
   ]
  },
  {
   "cell_type": "code",
   "execution_count": 10,
   "metadata": {},
   "outputs": [],
   "source": [
    "df =df.set_index(df['date'])\n",
    "df.drop('date',axis=1,inplace=True)"
   ]
  },
  {
   "cell_type": "code",
   "execution_count": 11,
   "metadata": {},
   "outputs": [
    {
     "data": {
      "text/html": [
       "<div>\n",
       "<style scoped>\n",
       "    .dataframe tbody tr th:only-of-type {\n",
       "        vertical-align: middle;\n",
       "    }\n",
       "\n",
       "    .dataframe tbody tr th {\n",
       "        vertical-align: top;\n",
       "    }\n",
       "\n",
       "    .dataframe thead th {\n",
       "        text-align: right;\n",
       "    }\n",
       "</style>\n",
       "<table border=\"1\" class=\"dataframe\">\n",
       "  <thead>\n",
       "    <tr style=\"text-align: right;\">\n",
       "      <th></th>\n",
       "      <th>time</th>\n",
       "      <th>start</th>\n",
       "      <th>high</th>\n",
       "      <th>low</th>\n",
       "      <th>close</th>\n",
       "      <th>prev</th>\n",
       "      <th>volume</th>\n",
       "      <th>tr_amount</th>\n",
       "      <th>sales_qu</th>\n",
       "      <th>purchase_qu</th>\n",
       "      <th>...</th>\n",
       "      <th>fr_cu_holding</th>\n",
       "      <th>fr_cu_ratio</th>\n",
       "      <th>ad_pr_ratio</th>\n",
       "      <th>in_net_buy</th>\n",
       "      <th>up_do</th>\n",
       "      <th>up_do_ratio</th>\n",
       "      <th>deposit</th>\n",
       "      <th>st_turnover</th>\n",
       "      <th>tr_es_ratio</th>\n",
       "      <th>sign</th>\n",
       "    </tr>\n",
       "    <tr>\n",
       "      <th>date</th>\n",
       "      <th></th>\n",
       "      <th></th>\n",
       "      <th></th>\n",
       "      <th></th>\n",
       "      <th></th>\n",
       "      <th></th>\n",
       "      <th></th>\n",
       "      <th></th>\n",
       "      <th></th>\n",
       "      <th></th>\n",
       "      <th></th>\n",
       "      <th></th>\n",
       "      <th></th>\n",
       "      <th></th>\n",
       "      <th></th>\n",
       "      <th></th>\n",
       "      <th></th>\n",
       "      <th></th>\n",
       "      <th></th>\n",
       "      <th></th>\n",
       "      <th></th>\n",
       "    </tr>\n",
       "  </thead>\n",
       "  <tbody>\n",
       "    <tr>\n",
       "      <th>2020-09-16</th>\n",
       "      <td>0</td>\n",
       "      <td>24850</td>\n",
       "      <td>25700</td>\n",
       "      <td>24700</td>\n",
       "      <td>25050</td>\n",
       "      <td>-350</td>\n",
       "      <td>678492</td>\n",
       "      <td>17013000000</td>\n",
       "      <td>387608</td>\n",
       "      <td>260891</td>\n",
       "      <td>...</td>\n",
       "      <td>1033709</td>\n",
       "      <td>3.70</td>\n",
       "      <td>100.00</td>\n",
       "      <td>1043</td>\n",
       "      <td>0</td>\n",
       "      <td>0.0</td>\n",
       "      <td>0</td>\n",
       "      <td>0.0</td>\n",
       "      <td>0.0</td>\n",
       "      <td>53</td>\n",
       "    </tr>\n",
       "    <tr>\n",
       "      <th>2020-09-15</th>\n",
       "      <td>0</td>\n",
       "      <td>26200</td>\n",
       "      <td>26950</td>\n",
       "      <td>25300</td>\n",
       "      <td>25400</td>\n",
       "      <td>-900</td>\n",
       "      <td>911902</td>\n",
       "      <td>23800000000</td>\n",
       "      <td>512367</td>\n",
       "      <td>354678</td>\n",
       "      <td>...</td>\n",
       "      <td>1033709</td>\n",
       "      <td>3.70</td>\n",
       "      <td>100.00</td>\n",
       "      <td>-11779</td>\n",
       "      <td>0</td>\n",
       "      <td>0.0</td>\n",
       "      <td>0</td>\n",
       "      <td>0.0</td>\n",
       "      <td>0.0</td>\n",
       "      <td>53</td>\n",
       "    </tr>\n",
       "    <tr>\n",
       "      <th>2020-09-14</th>\n",
       "      <td>0</td>\n",
       "      <td>26850</td>\n",
       "      <td>26850</td>\n",
       "      <td>25450</td>\n",
       "      <td>26300</td>\n",
       "      <td>-450</td>\n",
       "      <td>809547</td>\n",
       "      <td>21287000000</td>\n",
       "      <td>445602</td>\n",
       "      <td>345826</td>\n",
       "      <td>...</td>\n",
       "      <td>1047107</td>\n",
       "      <td>3.75</td>\n",
       "      <td>100.00</td>\n",
       "      <td>6928</td>\n",
       "      <td>0</td>\n",
       "      <td>0.0</td>\n",
       "      <td>0</td>\n",
       "      <td>0.0</td>\n",
       "      <td>0.0</td>\n",
       "      <td>53</td>\n",
       "    </tr>\n",
       "    <tr>\n",
       "      <th>2020-09-11</th>\n",
       "      <td>0</td>\n",
       "      <td>28200</td>\n",
       "      <td>29600</td>\n",
       "      <td>26150</td>\n",
       "      <td>26750</td>\n",
       "      <td>800</td>\n",
       "      <td>3734243</td>\n",
       "      <td>102865000000</td>\n",
       "      <td>2067694</td>\n",
       "      <td>1629489</td>\n",
       "      <td>...</td>\n",
       "      <td>1030910</td>\n",
       "      <td>3.69</td>\n",
       "      <td>100.00</td>\n",
       "      <td>-12607</td>\n",
       "      <td>0</td>\n",
       "      <td>0.0</td>\n",
       "      <td>0</td>\n",
       "      <td>0.0</td>\n",
       "      <td>0.0</td>\n",
       "      <td>50</td>\n",
       "    </tr>\n",
       "    <tr>\n",
       "      <th>2020-09-10</th>\n",
       "      <td>0</td>\n",
       "      <td>25500</td>\n",
       "      <td>26100</td>\n",
       "      <td>24700</td>\n",
       "      <td>25950</td>\n",
       "      <td>1400</td>\n",
       "      <td>1809380</td>\n",
       "      <td>46235000000</td>\n",
       "      <td>867366</td>\n",
       "      <td>832189</td>\n",
       "      <td>...</td>\n",
       "      <td>1045379</td>\n",
       "      <td>3.74</td>\n",
       "      <td>100.00</td>\n",
       "      <td>18241</td>\n",
       "      <td>0</td>\n",
       "      <td>0.0</td>\n",
       "      <td>0</td>\n",
       "      <td>0.0</td>\n",
       "      <td>0.0</td>\n",
       "      <td>50</td>\n",
       "    </tr>\n",
       "    <tr>\n",
       "      <th>...</th>\n",
       "      <td>...</td>\n",
       "      <td>...</td>\n",
       "      <td>...</td>\n",
       "      <td>...</td>\n",
       "      <td>...</td>\n",
       "      <td>...</td>\n",
       "      <td>...</td>\n",
       "      <td>...</td>\n",
       "      <td>...</td>\n",
       "      <td>...</td>\n",
       "      <td>...</td>\n",
       "      <td>...</td>\n",
       "      <td>...</td>\n",
       "      <td>...</td>\n",
       "      <td>...</td>\n",
       "      <td>...</td>\n",
       "      <td>...</td>\n",
       "      <td>...</td>\n",
       "      <td>...</td>\n",
       "      <td>...</td>\n",
       "      <td>...</td>\n",
       "    </tr>\n",
       "    <tr>\n",
       "      <th>1980-01-09</th>\n",
       "      <td>0</td>\n",
       "      <td>5700</td>\n",
       "      <td>5740</td>\n",
       "      <td>5700</td>\n",
       "      <td>5700</td>\n",
       "      <td>410</td>\n",
       "      <td>190</td>\n",
       "      <td>0</td>\n",
       "      <td>0</td>\n",
       "      <td>0</td>\n",
       "      <td>...</td>\n",
       "      <td>0</td>\n",
       "      <td>0.00</td>\n",
       "      <td>6.59</td>\n",
       "      <td>0</td>\n",
       "      <td>0</td>\n",
       "      <td>0.0</td>\n",
       "      <td>0</td>\n",
       "      <td>0.0</td>\n",
       "      <td>0.0</td>\n",
       "      <td>32</td>\n",
       "    </tr>\n",
       "    <tr>\n",
       "      <th>1980-01-08</th>\n",
       "      <td>0</td>\n",
       "      <td>5290</td>\n",
       "      <td>5290</td>\n",
       "      <td>5290</td>\n",
       "      <td>5290</td>\n",
       "      <td>300</td>\n",
       "      <td>0</td>\n",
       "      <td>0</td>\n",
       "      <td>0</td>\n",
       "      <td>0</td>\n",
       "      <td>...</td>\n",
       "      <td>0</td>\n",
       "      <td>0.00</td>\n",
       "      <td>6.59</td>\n",
       "      <td>0</td>\n",
       "      <td>0</td>\n",
       "      <td>0.0</td>\n",
       "      <td>0</td>\n",
       "      <td>0.0</td>\n",
       "      <td>0.0</td>\n",
       "      <td>32</td>\n",
       "    </tr>\n",
       "    <tr>\n",
       "      <th>1980-01-07</th>\n",
       "      <td>0</td>\n",
       "      <td>4990</td>\n",
       "      <td>4990</td>\n",
       "      <td>4990</td>\n",
       "      <td>4990</td>\n",
       "      <td>290</td>\n",
       "      <td>120</td>\n",
       "      <td>0</td>\n",
       "      <td>0</td>\n",
       "      <td>0</td>\n",
       "      <td>...</td>\n",
       "      <td>0</td>\n",
       "      <td>0.00</td>\n",
       "      <td>6.59</td>\n",
       "      <td>0</td>\n",
       "      <td>0</td>\n",
       "      <td>0.0</td>\n",
       "      <td>0</td>\n",
       "      <td>0.0</td>\n",
       "      <td>0.0</td>\n",
       "      <td>32</td>\n",
       "    </tr>\n",
       "    <tr>\n",
       "      <th>1980-01-05</th>\n",
       "      <td>0</td>\n",
       "      <td>4700</td>\n",
       "      <td>4700</td>\n",
       "      <td>4700</td>\n",
       "      <td>4700</td>\n",
       "      <td>0</td>\n",
       "      <td>0</td>\n",
       "      <td>0</td>\n",
       "      <td>0</td>\n",
       "      <td>0</td>\n",
       "      <td>...</td>\n",
       "      <td>0</td>\n",
       "      <td>0.00</td>\n",
       "      <td>6.59</td>\n",
       "      <td>0</td>\n",
       "      <td>0</td>\n",
       "      <td>0.0</td>\n",
       "      <td>0</td>\n",
       "      <td>0.0</td>\n",
       "      <td>0.0</td>\n",
       "      <td>32</td>\n",
       "    </tr>\n",
       "    <tr>\n",
       "      <th>1980-01-04</th>\n",
       "      <td>0</td>\n",
       "      <td>4700</td>\n",
       "      <td>4700</td>\n",
       "      <td>4700</td>\n",
       "      <td>4700</td>\n",
       "      <td>3650</td>\n",
       "      <td>0</td>\n",
       "      <td>0</td>\n",
       "      <td>0</td>\n",
       "      <td>0</td>\n",
       "      <td>...</td>\n",
       "      <td>0</td>\n",
       "      <td>0.00</td>\n",
       "      <td>6.59</td>\n",
       "      <td>0</td>\n",
       "      <td>0</td>\n",
       "      <td>0.0</td>\n",
       "      <td>0</td>\n",
       "      <td>0.0</td>\n",
       "      <td>0.0</td>\n",
       "      <td>32</td>\n",
       "    </tr>\n",
       "  </tbody>\n",
       "</table>\n",
       "<p>10928 rows × 22 columns</p>\n",
       "</div>"
      ],
      "text/plain": [
       "            time  start   high    low  close  prev   volume     tr_amount  \\\n",
       "date                                                                        \n",
       "2020-09-16     0  24850  25700  24700  25050  -350   678492   17013000000   \n",
       "2020-09-15     0  26200  26950  25300  25400  -900   911902   23800000000   \n",
       "2020-09-14     0  26850  26850  25450  26300  -450   809547   21287000000   \n",
       "2020-09-11     0  28200  29600  26150  26750   800  3734243  102865000000   \n",
       "2020-09-10     0  25500  26100  24700  25950  1400  1809380   46235000000   \n",
       "...          ...    ...    ...    ...    ...   ...      ...           ...   \n",
       "1980-01-09     0   5700   5740   5700   5700   410      190             0   \n",
       "1980-01-08     0   5290   5290   5290   5290   300        0             0   \n",
       "1980-01-07     0   4990   4990   4990   4990   290      120             0   \n",
       "1980-01-05     0   4700   4700   4700   4700     0        0             0   \n",
       "1980-01-04     0   4700   4700   4700   4700  3650        0             0   \n",
       "\n",
       "            sales_qu  purchase_qu  ...  fr_cu_holding  fr_cu_ratio  \\\n",
       "date                               ...                               \n",
       "2020-09-16    387608       260891  ...        1033709         3.70   \n",
       "2020-09-15    512367       354678  ...        1033709         3.70   \n",
       "2020-09-14    445602       345826  ...        1047107         3.75   \n",
       "2020-09-11   2067694      1629489  ...        1030910         3.69   \n",
       "2020-09-10    867366       832189  ...        1045379         3.74   \n",
       "...              ...          ...  ...            ...          ...   \n",
       "1980-01-09         0            0  ...              0         0.00   \n",
       "1980-01-08         0            0  ...              0         0.00   \n",
       "1980-01-07         0            0  ...              0         0.00   \n",
       "1980-01-05         0            0  ...              0         0.00   \n",
       "1980-01-04         0            0  ...              0         0.00   \n",
       "\n",
       "            ad_pr_ratio  in_net_buy  up_do  up_do_ratio  deposit  st_turnover  \\\n",
       "date                                                                            \n",
       "2020-09-16       100.00        1043      0          0.0        0          0.0   \n",
       "2020-09-15       100.00      -11779      0          0.0        0          0.0   \n",
       "2020-09-14       100.00        6928      0          0.0        0          0.0   \n",
       "2020-09-11       100.00      -12607      0          0.0        0          0.0   \n",
       "2020-09-10       100.00       18241      0          0.0        0          0.0   \n",
       "...                 ...         ...    ...          ...      ...          ...   \n",
       "1980-01-09         6.59           0      0          0.0        0          0.0   \n",
       "1980-01-08         6.59           0      0          0.0        0          0.0   \n",
       "1980-01-07         6.59           0      0          0.0        0          0.0   \n",
       "1980-01-05         6.59           0      0          0.0        0          0.0   \n",
       "1980-01-04         6.59           0      0          0.0        0          0.0   \n",
       "\n",
       "            tr_es_ratio  sign  \n",
       "date                           \n",
       "2020-09-16          0.0    53  \n",
       "2020-09-15          0.0    53  \n",
       "2020-09-14          0.0    53  \n",
       "2020-09-11          0.0    50  \n",
       "2020-09-10          0.0    50  \n",
       "...                 ...   ...  \n",
       "1980-01-09          0.0    32  \n",
       "1980-01-08          0.0    32  \n",
       "1980-01-07          0.0    32  \n",
       "1980-01-05          0.0    32  \n",
       "1980-01-04          0.0    32  \n",
       "\n",
       "[10928 rows x 22 columns]"
      ]
     },
     "execution_count": 11,
     "metadata": {},
     "output_type": "execute_result"
    }
   ],
   "source": [
    "df"
   ]
  },
  {
   "cell_type": "markdown",
   "metadata": {},
   "source": [
    "---\n",
    "## <center> Date 컬럼의 데이터 타입에 따른 차트 비교 </center>"
   ]
  },
  {
   "cell_type": "markdown",
   "metadata": {},
   "source": [
    "- X 축의 값으로 날짜 데이터를 사용할때 데이터 타입에 따라 차트 모양이 변하게 된다.\n",
    "- int64의 경우 기존의 주식 차트와는 전혀 다른 모습을 보여주는 반면 문자열 또는 datetime으로 변환 후에는 주식차트의 모습에 맞게 변한 것을 확인 할 수 있다."
   ]
  },
  {
   "cell_type": "code",
   "execution_count": 29,
   "metadata": {
    "scrolled": true
   },
   "outputs": [
    {
     "data": {
      "text/plain": [
       "[<matplotlib.lines.Line2D at 0x24b208c8b88>]"
      ]
     },
     "execution_count": 29,
     "metadata": {},
     "output_type": "execute_result"
    },
    {
     "data": {
      "image/png": "[encoded data removed]",
      "text/plain": [
       "<Figure size 1152x360 with 1 Axes>"
      ]
     },
     "metadata": {
      "needs_background": "light"
     },
     "output_type": "display_data"
    }
   ],
   "source": [
    "import matplotlib.pyplot as plt\n",
    "%matplotlib inline\n",
    "df_stock = pd.read_csv('./DA000020.csv')\n",
    "df_stock = df_stock.iloc[:100]\n",
    "plt.figure(figsize = (16,5))\n",
    "plt.plot(df_stock['date'],df_stock['close'])"
   ]
  },
  {
   "cell_type": "code",
   "execution_count": 30,
   "metadata": {},
   "outputs": [
    {
     "data": {
      "text/plain": [
       "[<matplotlib.lines.Line2D at 0x24b208d37c8>]"
      ]
     },
     "execution_count": 30,
     "metadata": {},
     "output_type": "execute_result"
    },
    {
     "data": {
      "image/png": "[encoded data removed]",
      "text/plain": [
       "<Figure size 1152x360 with 1 Axes>"
      ]
     },
     "metadata": {
      "needs_background": "light"
     },
     "output_type": "display_data"
    }
   ],
   "source": [
    "df_stock = transform_datetype(df_stock)\n",
    "plt.figure(figsize = (16,5))\n",
    "plt.plot(df_stock['date'],df_stock['close'])"
   ]
  },
  {
   "cell_type": "code",
   "execution_count": 34,
   "metadata": {},
   "outputs": [],
   "source": [
    "df_stock =df_stock.set_index(df_stock['date'])\n",
    "df_stock.drop('date',axis=1,inplace=True)"
   ]
  },
  {
   "cell_type": "code",
   "execution_count": 35,
   "metadata": {},
   "outputs": [
    {
     "data": {
      "text/plain": [
       "[<matplotlib.lines.Line2D at 0x24b2096a148>]"
      ]
     },
     "execution_count": 35,
     "metadata": {},
     "output_type": "execute_result"
    },
    {
     "data": {
      "image/png": "[encoded data removed]",
      "text/plain": [
       "<Figure size 1152x360 with 1 Axes>"
      ]
     },
     "metadata": {
      "needs_background": "light"
     },
     "output_type": "display_data"
    }
   ],
   "source": [
    "plt.figure(figsize = (16,5))\n",
    "plt.plot(df_stock.index,df_stock['close'])"
   ]
  },
  {
   "cell_type": "code",
   "execution_count": null,
   "metadata": {},
   "outputs": [],
   "source": []
  }
 ],
 "metadata": {
  "kernelspec": {
   "display_name": "ml01-02",
   "language": "python",
   "name": "ml01-02"
  },
  "language_info": {
   "codemirror_mode": {
    "name": "ipython",
    "version": 3
   },
   "file_extension": ".py",
   "mimetype": "text/x-python",
   "name": "python",
   "nbconvert_exporter": "python",
   "pygments_lexer": "ipython3",
   "version": "3.7.7"
  }
 },
 "nbformat": 4,
 "nbformat_minor": 4
}
